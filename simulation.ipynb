{
 "cells": [
  {
   "cell_type": "code",
   "execution_count": 1,
   "metadata": {},
   "outputs": [],
   "source": [
    "import numpy as np\n",
    "import pandas as pd"
   ]
  },
  {
   "cell_type": "code",
   "execution_count": 2,
   "metadata": {},
   "outputs": [
    {
     "data": {
      "text/plain": [
       "array([[2, 6],\n",
       "       [2, 5],\n",
       "       [6, 6],\n",
       "       ...,\n",
       "       [4, 5],\n",
       "       [3, 6],\n",
       "       [6, 2]])"
      ]
     },
     "execution_count": 2,
     "metadata": {},
     "output_type": "execute_result"
    }
   ],
   "source": [
    "#1\n",
    "\n",
    "rolls = np.random.choice(range(1,7),size=(10000,2))\n",
    "rolls"
   ]
  },
  {
   "cell_type": "code",
   "execution_count": 3,
   "metadata": {},
   "outputs": [
    {
     "data": {
      "text/plain": [
       "0.16570000000000001"
      ]
     },
     "execution_count": 3,
     "metadata": {},
     "output_type": "execute_result"
    }
   ],
   "source": [
    "total=0\n",
    "for i in range(1,7):\n",
    "    total += (rolls == i).all(axis=1).mean()\n",
    "total"
   ]
  },
  {
   "cell_type": "code",
   "execution_count": 4,
   "metadata": {},
   "outputs": [
    {
     "data": {
      "text/plain": [
       "array([['Heads', 'Heads', 'Heads', ..., 'Tails', 'Heads', 'Tails'],\n",
       "       ['Tails', 'Tails', 'Tails', ..., 'Tails', 'Heads', 'Tails'],\n",
       "       ['Tails', 'Tails', 'Tails', ..., 'Tails', 'Heads', 'Heads'],\n",
       "       ...,\n",
       "       ['Tails', 'Heads', 'Tails', ..., 'Heads', 'Tails', 'Tails'],\n",
       "       ['Tails', 'Heads', 'Tails', ..., 'Heads', 'Heads', 'Heads'],\n",
       "       ['Heads', 'Heads', 'Tails', ..., 'Tails', 'Tails', 'Heads']],\n",
       "      dtype='<U5')"
      ]
     },
     "execution_count": 4,
     "metadata": {},
     "output_type": "execute_result"
    }
   ],
   "source": [
    "#2\n",
    "\n",
    "flips = np.random.choice(['Heads','Tails'],(10000,8))\n",
    "flips"
   ]
  },
  {
   "cell_type": "code",
   "execution_count": 5,
   "metadata": {},
   "outputs": [
    {
     "data": {
      "text/plain": [
       "0.2233"
      ]
     },
     "execution_count": 5,
     "metadata": {},
     "output_type": "execute_result"
    }
   ],
   "source": [
    "((flips == 'Heads').sum(axis=1) == 3).mean()"
   ]
  },
  {
   "cell_type": "code",
   "execution_count": 6,
   "metadata": {},
   "outputs": [
    {
     "data": {
      "text/plain": [
       "0.6331"
      ]
     },
     "execution_count": 6,
     "metadata": {},
     "output_type": "execute_result"
    }
   ],
   "source": [
    "((flips == 'Heads').sum(axis=1) > 3).mean()"
   ]
  },
  {
   "cell_type": "code",
   "execution_count": 7,
   "metadata": {},
   "outputs": [
    {
     "data": {
      "text/plain": [
       "array([['WD', 'WD'],\n",
       "       ['DS', 'WD'],\n",
       "       ['WD', 'WD'],\n",
       "       ...,\n",
       "       ['WD', 'WD'],\n",
       "       ['WD', 'WD'],\n",
       "       ['DS', 'DS']], dtype='<U2')"
      ]
     },
     "execution_count": 7,
     "metadata": {},
     "output_type": "execute_result"
    }
   ],
   "source": [
    "#3\n",
    "\n",
    "boards = np.random.choice(['DS','WD'],p=(1/4, 3/4), size=(10000, 2))\n",
    "boards"
   ]
  },
  {
   "cell_type": "code",
   "execution_count": 8,
   "metadata": {},
   "outputs": [
    {
     "data": {
      "text/plain": [
       "0.0609"
      ]
     },
     "execution_count": 8,
     "metadata": {},
     "output_type": "execute_result"
    }
   ],
   "source": [
    "((boards == 'DS').all(axis=1) == True).mean()"
   ]
  },
  {
   "cell_type": "code",
   "execution_count": 23,
   "metadata": {
    "scrolled": true
   },
   "outputs": [
    {
     "data": {
      "text/plain": [
       "array([[3.12743602, 2.86820933, 3.83496528, 0.88334214, 2.0770953 ],\n",
       "       [3.19122482, 2.89092413, 4.24453616, 1.73986239, 1.93288721],\n",
       "       [2.54500979, 1.36789943, 5.11929237, 1.38002347, 5.82865357],\n",
       "       ...,\n",
       "       [4.68438284, 4.53792698, 1.17935672, 2.93662746, 4.45701764],\n",
       "       [3.9140119 , 4.18670017, 0.71334473, 5.15148647, 1.16982111],\n",
       "       [1.95082948, 1.79951929, 4.44723842, 0.44342538, 4.33748597]])"
      ]
     },
     "execution_count": 23,
     "metadata": {},
     "output_type": "execute_result"
    }
   ],
   "source": [
    "#4\n",
    "\n",
    "poptarts = np.random.normal(3,1.5, size=(10000,5))\n",
    "\n",
    "poptarts"
   ]
  },
  {
   "cell_type": "code",
   "execution_count": 10,
   "metadata": {},
   "outputs": [
    {
     "data": {
      "text/plain": [
       "0.6178"
      ]
     },
     "execution_count": 10,
     "metadata": {},
     "output_type": "execute_result"
    }
   ],
   "source": [
    "(poptarts.sum(axis=1) <= 16).mean()"
   ]
  },
  {
   "cell_type": "code",
   "execution_count": 22,
   "metadata": {},
   "outputs": [
    {
     "data": {
      "text/plain": [
       "0.2121"
      ]
     },
     "execution_count": 22,
     "metadata": {},
     "output_type": "execute_result"
    }
   ],
   "source": [
    "#5\n",
    "\n",
    "m_height = np.random.normal(178, 8, size=10000)\n",
    "f_height = np.random.normal(170, 6, size=10000)\n",
    "is_w_taller = (m_height < f_height).mean()\n",
    "is_w_taller"
   ]
  },
  {
   "cell_type": "code",
   "execution_count": 34,
   "metadata": {},
   "outputs": [
    {
     "data": {
      "text/plain": [
       "0.1721"
      ]
     },
     "execution_count": 34,
     "metadata": {},
     "output_type": "execute_result"
    }
   ],
   "source": [
    "#6\n",
    "\n",
    "def contains_a_1(issue):\n",
    "    return 1 in issue.values\n",
    "issue = np.random.choice(range(1,251), size=(10000,450))\n",
    "\n",
    "(pd.DataFrame(issue).apply(contains_a_1, axis=1) == 0).mean()"
   ]
  },
  {
   "cell_type": "code",
   "execution_count": 13,
   "metadata": {},
   "outputs": [
    {
     "data": {
      "text/plain": [
       "0.45930000000000004"
      ]
     },
     "execution_count": 13,
     "metadata": {},
     "output_type": "execute_result"
    }
   ],
   "source": [
    "issue = np.random.choice(range(1,251), size=(10000,150))\n",
    "\n",
    "1 - (pd.DataFrame(issue).apply(contains_a_1, axis=1) == 0).mean()"
   ]
  },
  {
   "cell_type": "code",
   "execution_count": 14,
   "metadata": {},
   "outputs": [
    {
     "data": {
      "text/plain": [
       "0.0307"
      ]
     },
     "execution_count": 14,
     "metadata": {},
     "output_type": "execute_result"
    }
   ],
   "source": [
    "#7\n",
    "\n",
    "truck_there = np.random.choice(['There','Not There'], \n",
    "                                   p=(.7,.3), size=(10000,3))\n",
    "\n",
    "(truck_there == 'Not There').all(axis=1).mean()"
   ]
  },
  {
   "cell_type": "code",
   "execution_count": 15,
   "metadata": {},
   "outputs": [
    {
     "data": {
      "text/plain": [
       "0.9933"
      ]
     },
     "execution_count": 15,
     "metadata": {},
     "output_type": "execute_result"
    }
   ],
   "source": [
    "truck_there = np.random.choice(['There','Not There'], \n",
    "                                   p=(.7,.3), size=(10000,4))\n",
    "\n",
    "((truck_there == 'There').sum(axis=1) > 0).mean()"
   ]
  },
  {
   "cell_type": "code",
   "execution_count": 70,
   "metadata": {},
   "outputs": [],
   "source": [
    "#8\n",
    "\n",
    "same_bday = np.random.choice(range(1,366), size=(10000,40))\n",
    "bday_frame = pd.DataFrame(same_bday)\n",
    "\n",
    "def checkIfDuplicates_1(row):\n",
    "    return len(row) != len(set(row))"
   ]
  },
  {
   "cell_type": "code",
   "execution_count": 71,
   "metadata": {},
   "outputs": [
    {
     "data": {
      "text/plain": [
       "0.8912"
      ]
     },
     "execution_count": 71,
     "metadata": {},
     "output_type": "execute_result"
    }
   ],
   "source": [
    "bday_frame.apply(checkIfDuplicates_1, axis=1).mean()"
   ]
  }
 ],
 "metadata": {
  "kernelspec": {
   "display_name": "Python 3",
   "language": "python",
   "name": "python3"
  },
  "language_info": {
   "codemirror_mode": {
    "name": "ipython",
    "version": 3
   },
   "file_extension": ".py",
   "mimetype": "text/x-python",
   "name": "python",
   "nbconvert_exporter": "python",
   "pygments_lexer": "ipython3",
   "version": "3.7.4"
  }
 },
 "nbformat": 4,
 "nbformat_minor": 2
}
