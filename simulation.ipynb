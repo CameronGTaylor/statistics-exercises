{
 "cells": [
  {
   "cell_type": "code",
   "execution_count": 4,
   "metadata": {},
   "outputs": [],
   "source": [
    "import numpy as np\n",
    "import pandas as pd"
   ]
  },
  {
   "cell_type": "code",
   "execution_count": 14,
   "metadata": {},
   "outputs": [
    {
     "data": {
      "text/plain": [
       "array([[5, 4],\n",
       "       [1, 3],\n",
       "       [1, 1],\n",
       "       ...,\n",
       "       [6, 6],\n",
       "       [6, 2],\n",
       "       [6, 2]])"
      ]
     },
     "execution_count": 14,
     "metadata": {},
     "output_type": "execute_result"
    }
   ],
   "source": [
    "#1\n",
    "\n",
    "rolls = np.random.choice(range(1,7),size=(10000,2))\n",
    "rolls"
   ]
  },
  {
   "cell_type": "code",
   "execution_count": 21,
   "metadata": {},
   "outputs": [
    {
     "data": {
      "text/plain": [
       "0.1664"
      ]
     },
     "execution_count": 21,
     "metadata": {},
     "output_type": "execute_result"
    }
   ],
   "source": [
    "total=0\n",
    "for i in range(1,7):\n",
    "    total += (rolls == i).all(axis=1).mean()\n",
    "total"
   ]
  },
  {
   "cell_type": "code",
   "execution_count": 16,
   "metadata": {},
   "outputs": [
    {
     "data": {
      "text/plain": [
       "array([['Tails', 'Tails', 'Tails', ..., 'Tails', 'Heads', 'Tails'],\n",
       "       ['Tails', 'Tails', 'Tails', ..., 'Heads', 'Tails', 'Heads'],\n",
       "       ['Tails', 'Tails', 'Heads', ..., 'Tails', 'Heads', 'Heads'],\n",
       "       ...,\n",
       "       ['Heads', 'Heads', 'Tails', ..., 'Heads', 'Heads', 'Tails'],\n",
       "       ['Heads', 'Heads', 'Heads', ..., 'Heads', 'Heads', 'Heads'],\n",
       "       ['Tails', 'Heads', 'Tails', ..., 'Tails', 'Heads', 'Tails']],\n",
       "      dtype='<U5')"
      ]
     },
     "execution_count": 16,
     "metadata": {},
     "output_type": "execute_result"
    }
   ],
   "source": [
    "#2\n",
    "\n",
    "flips = np.random.choice(['Heads','Tails'],(10000,8))\n",
    "flips"
   ]
  },
  {
   "cell_type": "code",
   "execution_count": 20,
   "metadata": {},
   "outputs": [
    {
     "data": {
      "text/plain": [
       "0.2133"
      ]
     },
     "execution_count": 20,
     "metadata": {},
     "output_type": "execute_result"
    }
   ],
   "source": [
    "((flips == 'Heads').sum(axis=1) == 3).mean()"
   ]
  },
  {
   "cell_type": "code",
   "execution_count": 29,
   "metadata": {},
   "outputs": [
    {
     "data": {
      "text/plain": [
       "0.6444"
      ]
     },
     "execution_count": 29,
     "metadata": {},
     "output_type": "execute_result"
    }
   ],
   "source": [
    "((flips == 'Heads').sum(axis=1) > 3).mean()"
   ]
  },
  {
   "cell_type": "code",
   "execution_count": 36,
   "metadata": {},
   "outputs": [
    {
     "data": {
      "text/plain": [
       "array([['WD', 'DS'],\n",
       "       ['DS', 'WD'],\n",
       "       ['DS', 'WD'],\n",
       "       ...,\n",
       "       ['WD', 'WD'],\n",
       "       ['WD', 'WD'],\n",
       "       ['WD', 'WD']], dtype='<U2')"
      ]
     },
     "execution_count": 36,
     "metadata": {},
     "output_type": "execute_result"
    }
   ],
   "source": [
    "#3\n",
    "\n",
    "boards = np.random.choice(['DS','WD'],p=(1/4, 3/4), size=(10000, 2))\n",
    "boards"
   ]
  },
  {
   "cell_type": "code",
   "execution_count": 37,
   "metadata": {},
   "outputs": [
    {
     "data": {
      "text/plain": [
       "0.0681"
      ]
     },
     "execution_count": 37,
     "metadata": {},
     "output_type": "execute_result"
    }
   ],
   "source": [
    "((boards == 'DS').all(axis=1) == True).mean()"
   ]
  },
  {
   "cell_type": "code",
   "execution_count": 28,
   "metadata": {},
   "outputs": [
    {
     "data": {
      "text/plain": [
       "array([[ 0.42609086, -0.28579014,  5.82358537,  0.75204469,  1.48475562],\n",
       "       [ 3.82194174,  3.00640487,  3.90339914,  2.22629575,  2.6068994 ],\n",
       "       [ 3.68074061,  0.84418623,  1.74136287,  4.34791118,  1.31495002],\n",
       "       ...,\n",
       "       [ 1.31023068,  5.6546251 ,  3.89792147,  5.4058145 ,  3.36320691],\n",
       "       [ 6.48304356,  2.12418442,  4.48301282,  4.46748095,  3.13385681],\n",
       "       [-1.02803093,  2.4857882 ,  3.45911244,  3.31092548,  3.97873353]])"
      ]
     },
     "execution_count": 28,
     "metadata": {},
     "output_type": "execute_result"
    }
   ],
   "source": [
    "#4\n",
    "\n",
    "poptarts = np.random.normal(3,1.5, size=(10000,5))\n",
    "poptarts"
   ]
  },
  {
   "cell_type": "code",
   "execution_count": 38,
   "metadata": {},
   "outputs": [
    {
     "data": {
      "text/plain": [
       "0.6094"
      ]
     },
     "execution_count": 38,
     "metadata": {},
     "output_type": "execute_result"
    }
   ],
   "source": [
    "(poptarts.sum(axis=1) <= 16).mean()"
   ]
  },
  {
   "cell_type": "code",
   "execution_count": 62,
   "metadata": {},
   "outputs": [
    {
     "data": {
      "text/plain": [
       "0.2102"
      ]
     },
     "execution_count": 62,
     "metadata": {},
     "output_type": "execute_result"
    }
   ],
   "source": [
    "#5\n",
    "\n",
    "m_height = np.random.normal(178, 8, size=10000)\n",
    "f_height = np.random.normal(170, 6, size=10000)\n",
    "is_w_taller = (m_height < f_height).mean()\n",
    "is_w_taller"
   ]
  },
  {
   "cell_type": "code",
   "execution_count": 103,
   "metadata": {},
   "outputs": [
    {
     "data": {
      "text/plain": [
       "0.1642"
      ]
     },
     "execution_count": 103,
     "metadata": {},
     "output_type": "execute_result"
    }
   ],
   "source": [
    "#6\n",
    "\n",
    "def contains_a_1(issue):\n",
    "    return 1 in issue.values\n",
    "issue = np.random.choice(range(1,251), size=(10000,450))\n",
    "\n",
    "(pd.DataFrame(issue).apply(contains_a_1, axis=1) == 0).mean()"
   ]
  },
  {
   "cell_type": "code",
   "execution_count": 111,
   "metadata": {},
   "outputs": [
    {
     "data": {
      "text/plain": [
       "0.45840000000000003"
      ]
     },
     "execution_count": 111,
     "metadata": {},
     "output_type": "execute_result"
    }
   ],
   "source": [
    "issue = np.random.choice(range(1,251), size=(10000,150))\n",
    "\n",
    "1 - (pd.DataFrame(issue).apply(contains_a_1, axis=1) == 0).mean()"
   ]
  },
  {
   "cell_type": "code",
   "execution_count": 110,
   "metadata": {},
   "outputs": [
    {
     "data": {
      "text/plain": [
       "0.0273"
      ]
     },
     "execution_count": 110,
     "metadata": {},
     "output_type": "execute_result"
    }
   ],
   "source": [
    "#7\n",
    "\n",
    "truck_there = np.random.choice(['There','Not There'], \n",
    "                                   p=(.7,.3), size=(10000,3))\n",
    "\n",
    "(truck_there == 'Not There').all(axis=1).mean()"
   ]
  },
  {
   "cell_type": "code",
   "execution_count": 114,
   "metadata": {},
   "outputs": [
    {
     "data": {
      "text/plain": [
       "0.9922"
      ]
     },
     "execution_count": 114,
     "metadata": {},
     "output_type": "execute_result"
    }
   ],
   "source": [
    "truck_there = np.random.choice(['There','Not There'], \n",
    "                                   p=(.7,.3), size=(10000,4))\n",
    "\n",
    "((truck_there == 'There').sum(axis=1) > 0).mean()"
   ]
  },
  {
   "cell_type": "code",
   "execution_count": 116,
   "metadata": {},
   "outputs": [
    {
     "data": {
      "text/plain": [
       "array([[149, 211, 240, ..., 187, 264, 344],\n",
       "       [ 52, 151, 347, ..., 287, 225, 146],\n",
       "       [154,  82, 186, ..., 132,  16, 168],\n",
       "       ...,\n",
       "       [105,  91,  81, ...,  11, 282, 179],\n",
       "       [224,  20, 179, ..., 333,  10, 188],\n",
       "       [271, 275, 338, ..., 232, 190, 211]])"
      ]
     },
     "execution_count": 116,
     "metadata": {},
     "output_type": "execute_result"
    }
   ],
   "source": [
    "#8\n",
    "\n",
    "same_bday = np.random.choice(range(1,365), size=(10000,23))\n",
    "same_bday "
   ]
  },
  {
   "cell_type": "code",
   "execution_count": null,
   "metadata": {},
   "outputs": [],
   "source": []
  }
 ],
 "metadata": {
  "kernelspec": {
   "display_name": "Python 3",
   "language": "python",
   "name": "python3"
  },
  "language_info": {
   "codemirror_mode": {
    "name": "ipython",
    "version": 3
   },
   "file_extension": ".py",
   "mimetype": "text/x-python",
   "name": "python",
   "nbconvert_exporter": "python",
   "pygments_lexer": "ipython3",
   "version": "3.7.4"
  }
 },
 "nbformat": 4,
 "nbformat_minor": 2
}
