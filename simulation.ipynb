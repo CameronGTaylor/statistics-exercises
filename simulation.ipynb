{
 "cells": [
  {
   "cell_type": "code",
   "execution_count": 1,
   "metadata": {},
   "outputs": [],
   "source": [
    "import numpy as np\n",
    "import pandas as pd"
   ]
  },
  {
   "cell_type": "code",
   "execution_count": 2,
   "metadata": {},
   "outputs": [
    {
     "data": {
      "text/plain": [
       "array([[5, 4],\n",
       "       [6, 1],\n",
       "       [2, 3],\n",
       "       ...,\n",
       "       [2, 5],\n",
       "       [3, 1],\n",
       "       [5, 3]])"
      ]
     },
     "execution_count": 2,
     "metadata": {},
     "output_type": "execute_result"
    }
   ],
   "source": [
    "#1\n",
    "\n",
    "rolls = np.random.choice(range(1,7),size=(10000,2))\n",
    "rolls"
   ]
  },
  {
   "cell_type": "code",
   "execution_count": 3,
   "metadata": {},
   "outputs": [
    {
     "data": {
      "text/plain": [
       "0.1662"
      ]
     },
     "execution_count": 3,
     "metadata": {},
     "output_type": "execute_result"
    }
   ],
   "source": [
    "rollFrame = pd.DataFrame(rolls)\n",
    "(rollFrame[0] == rollFrame[1]).mean()"
   ]
  },
  {
   "cell_type": "code",
   "execution_count": 4,
   "metadata": {},
   "outputs": [
    {
     "data": {
      "text/plain": [
       "0.1662"
      ]
     },
     "execution_count": 4,
     "metadata": {},
     "output_type": "execute_result"
    }
   ],
   "source": [
    "total=0\n",
    "for i in range(1,7):\n",
    "    total += (rolls == i).all(axis=1).mean()\n",
    "total"
   ]
  },
  {
   "cell_type": "code",
   "execution_count": 5,
   "metadata": {},
   "outputs": [
    {
     "data": {
      "text/plain": [
       "array([['Tails', 'Tails', 'Tails', ..., 'Heads', 'Heads', 'Heads'],\n",
       "       ['Heads', 'Tails', 'Tails', ..., 'Tails', 'Tails', 'Tails'],\n",
       "       ['Heads', 'Tails', 'Tails', ..., 'Heads', 'Heads', 'Heads'],\n",
       "       ...,\n",
       "       ['Tails', 'Tails', 'Heads', ..., 'Heads', 'Tails', 'Tails'],\n",
       "       ['Heads', 'Tails', 'Heads', ..., 'Heads', 'Tails', 'Tails'],\n",
       "       ['Tails', 'Heads', 'Tails', ..., 'Heads', 'Tails', 'Heads']],\n",
       "      dtype='<U5')"
      ]
     },
     "execution_count": 5,
     "metadata": {},
     "output_type": "execute_result"
    }
   ],
   "source": [
    "#2\n",
    "\n",
    "flips = np.random.choice(['Heads','Tails'],(10000,8))\n",
    "flips"
   ]
  },
  {
   "cell_type": "code",
   "execution_count": 6,
   "metadata": {},
   "outputs": [
    {
     "data": {
      "text/plain": [
       "0.2122"
      ]
     },
     "execution_count": 6,
     "metadata": {},
     "output_type": "execute_result"
    }
   ],
   "source": [
    "((flips == 'Heads').sum(axis=1) == 3).mean()"
   ]
  },
  {
   "cell_type": "code",
   "execution_count": 7,
   "metadata": {},
   "outputs": [
    {
     "data": {
      "text/plain": [
       "0.6459"
      ]
     },
     "execution_count": 7,
     "metadata": {},
     "output_type": "execute_result"
    }
   ],
   "source": [
    "((flips == 'Heads').sum(axis=1) > 3).mean()"
   ]
  },
  {
   "cell_type": "code",
   "execution_count": 8,
   "metadata": {},
   "outputs": [
    {
     "data": {
      "text/plain": [
       "array([['DS', 'DS'],\n",
       "       ['WD', 'WD'],\n",
       "       ['WD', 'WD'],\n",
       "       ...,\n",
       "       ['WD', 'WD'],\n",
       "       ['WD', 'WD'],\n",
       "       ['WD', 'WD']], dtype='<U2')"
      ]
     },
     "execution_count": 8,
     "metadata": {},
     "output_type": "execute_result"
    }
   ],
   "source": [
    "#3\n",
    "\n",
    "boards = np.random.choice(['DS','WD'],p=(1/4, 3/4), size=(10000, 2))\n",
    "boards"
   ]
  },
  {
   "cell_type": "code",
   "execution_count": 9,
   "metadata": {},
   "outputs": [
    {
     "data": {
      "text/plain": [
       "0.0613"
      ]
     },
     "execution_count": 9,
     "metadata": {},
     "output_type": "execute_result"
    }
   ],
   "source": [
    "((boards == 'DS').all(axis=1) == True).mean()"
   ]
  },
  {
   "cell_type": "code",
   "execution_count": 10,
   "metadata": {
    "scrolled": true
   },
   "outputs": [
    {
     "data": {
      "text/plain": [
       "array([[2., 2., 2., 1., 3.],\n",
       "       [4., 4., 4., 2., 4.],\n",
       "       [2., 3., 6., 5., 4.],\n",
       "       ...,\n",
       "       [6., 3., 3., 3., 1.],\n",
       "       [3., 1., 3., 1., 4.],\n",
       "       [2., 4., 5., 2., 3.]])"
      ]
     },
     "execution_count": 10,
     "metadata": {},
     "output_type": "execute_result"
    }
   ],
   "source": [
    "#4\n",
    "\n",
    "poptarts = np.round(np.random.normal(3,1.5, size=(10000,5)))\n",
    "poptarts"
   ]
  },
  {
   "cell_type": "code",
   "execution_count": 11,
   "metadata": {},
   "outputs": [
    {
     "data": {
      "text/plain": [
       "0.6655"
      ]
     },
     "execution_count": 11,
     "metadata": {},
     "output_type": "execute_result"
    }
   ],
   "source": [
    "(poptarts.sum(axis=1) <= 16).mean()"
   ]
  },
  {
   "cell_type": "code",
   "execution_count": 12,
   "metadata": {},
   "outputs": [
    {
     "data": {
      "text/plain": [
       "0.2195"
      ]
     },
     "execution_count": 12,
     "metadata": {},
     "output_type": "execute_result"
    }
   ],
   "source": [
    "#5\n",
    "\n",
    "m_height = np.random.normal(178, 8, size=10000)\n",
    "f_height = np.random.normal(170, 6, size=10000)\n",
    "is_w_taller = (m_height < f_height).mean()\n",
    "is_w_taller"
   ]
  },
  {
   "cell_type": "code",
   "execution_count": 20,
   "metadata": {},
   "outputs": [
    {
     "data": {
      "text/plain": [
       "0.6697"
      ]
     },
     "execution_count": 20,
     "metadata": {},
     "output_type": "execute_result"
    }
   ],
   "source": [
    "#6\n",
    "\n",
    "def contains_a_1(issue):\n",
    "    return 1 in issue.values\n",
    "issue = np.random.choice(range(1,251), size=(10000,100))\n",
    "\n",
    "(pd.DataFrame(issue).apply(contains_a_1, axis=1) == 0).mean()"
   ]
  },
  {
   "cell_type": "code",
   "execution_count": 14,
   "metadata": {},
   "outputs": [
    {
     "data": {
      "text/plain": [
       "0.4595"
      ]
     },
     "execution_count": 14,
     "metadata": {},
     "output_type": "execute_result"
    }
   ],
   "source": [
    "issue = np.random.choice(range(1,251), size=(10000,150))\n",
    "\n",
    "(pd.DataFrame(issue).apply(contains_a_1, axis=1) != 0).mean()"
   ]
  },
  {
   "cell_type": "code",
   "execution_count": 15,
   "metadata": {},
   "outputs": [
    {
     "data": {
      "text/plain": [
       "0.0261"
      ]
     },
     "execution_count": 15,
     "metadata": {},
     "output_type": "execute_result"
    }
   ],
   "source": [
    "#7\n",
    "\n",
    "truck_there = np.random.choice(['There','Not There'], \n",
    "                                   p=(.7,.3), size=(10000,3))\n",
    "\n",
    "(truck_there == 'Not There').all(axis=1).mean()"
   ]
  },
  {
   "cell_type": "code",
   "execution_count": 16,
   "metadata": {},
   "outputs": [
    {
     "data": {
      "text/plain": [
       "0.9929"
      ]
     },
     "execution_count": 16,
     "metadata": {},
     "output_type": "execute_result"
    }
   ],
   "source": [
    "truck_there = np.random.choice(['There','Not There'], \n",
    "                                   p=(.7,.3), size=(10000,4))\n",
    "\n",
    "((truck_there == 'There').sum(axis=1) > 0).mean()"
   ]
  },
  {
   "cell_type": "code",
   "execution_count": 17,
   "metadata": {},
   "outputs": [],
   "source": [
    "#8\n",
    "\n",
    "same_bday = np.random.choice(range(1,366), size=(10000,40))\n",
    "bday_frame = pd.DataFrame(same_bday)\n",
    "\n",
    "def checkForDuplicates(row):\n",
    "    return len(row) != len(set(row))"
   ]
  },
  {
   "cell_type": "code",
   "execution_count": 18,
   "metadata": {},
   "outputs": [
    {
     "data": {
      "text/plain": [
       "0.8939"
      ]
     },
     "execution_count": 18,
     "metadata": {},
     "output_type": "execute_result"
    }
   ],
   "source": [
    "bday_frame.apply(checkForDuplicates, axis=1).mean()"
   ]
  }
 ],
 "metadata": {
  "kernelspec": {
   "display_name": "Python 3",
   "language": "python",
   "name": "python3"
  },
  "language_info": {
   "codemirror_mode": {
    "name": "ipython",
    "version": 3
   },
   "file_extension": ".py",
   "mimetype": "text/x-python",
   "name": "python",
   "nbconvert_exporter": "python",
   "pygments_lexer": "ipython3",
   "version": "3.7.4"
  }
 },
 "nbformat": 4,
 "nbformat_minor": 2
}
