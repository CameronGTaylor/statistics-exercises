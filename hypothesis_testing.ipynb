{
 "cells": [
  {
   "cell_type": "code",
   "execution_count": 18,
   "metadata": {},
   "outputs": [],
   "source": [
    "from math import sqrt\n",
    "from scipy import stats\n",
    "from pydataset import data"
   ]
  },
  {
   "cell_type": "markdown",
   "metadata": {},
   "source": [
    "### 1. Are the average grades in web development vs data science classes different?"
   ]
  },
  {
   "cell_type": "markdown",
   "metadata": {},
   "source": [
    "$H_0$: The average grades in both cohorts are not different\n",
    "\n",
    "$H_a$: The average grades in both cohorts are different\n",
    "\n",
    "- TP: DS grades on average are lower because the course is harder\n",
    "- FP(T1): Comparing DS month 4 to WD month 1, undercoverage sampling error\n",
    "- TN: The average grades across both cohorts are the same\n",
    "- FN(T2): The average grades are the same, if data was volunteered then only people with good grades answered"
   ]
  },
  {
   "cell_type": "markdown",
   "metadata": {},
   "source": [
    "### 2. Is there a relationship between how early a student shows up to class and their grade?\n"
   ]
  },
  {
   "cell_type": "markdown",
   "metadata": {},
   "source": [
    "$H_0$: There is no relationship between how early a student shows up to class and their grade\n",
    "\n",
    "$H_a$: The grade of a student lowers based on how early they show up\n",
    "\n",
    "- TP: Students with lower grades show up earlier\n",
    "- FP: Students with lower grades show up earlier, but there is one student with a huge outlier grade affecting that change\n",
    "- TN: Grades do not change based on how early a student shows up\n",
    "- FN: Grades do not change, but random sampling happened to miss several students who show up early with poor grades"
   ]
  },
  {
   "cell_type": "markdown",
   "metadata": {},
   "source": [
    "### 3. Are web dev or data science students more likely to be coffee drinkers?"
   ]
  },
  {
   "cell_type": "markdown",
   "metadata": {},
   "source": [
    "$H_0$: There is no relationship between cohort and likelihood of drinking coffee\n",
    "\n",
    "$H_a$: DS students are more likely to drink coffee\n",
    "\n",
    "- TP: DS students are more likely to drink coffee\n",
    "- FP(T1): DS students are more likely to drink coffee, but the answers are skewed because the question was asked the day of a test in DS \n",
    "- TN: Cohort does not affect likelihood of drinking coffee\n",
    "- FN(T2): Cohort does not affect likelihood of drinking coffee, but 3/4 of the surveys were not answered"
   ]
  },
  {
   "cell_type": "markdown",
   "metadata": {},
   "source": [
    "### 4. Has the network latency gone up since we switched internet service providers?"
   ]
  },
  {
   "cell_type": "markdown",
   "metadata": {},
   "source": [
    "$H_0$: Network latency has not changed since switching service providers\n",
    "\n",
    "$H_a$: Network latency has gone up since switching service providers\n",
    "\n",
    "- TP: Network latency has gone up with the new provider\n",
    "- FP(T1): Network latency has gone up, but it is because more people are using the service\n",
    "- TN: Network latency has not changed with the new provider\n",
    "- FN(T2): Network latency has not changed, but we also switched to fiber"
   ]
  },
  {
   "cell_type": "markdown",
   "metadata": {},
   "source": [
    "### 5. Is the website redesign any good?"
   ]
  },
  {
   "cell_type": "markdown",
   "metadata": {},
   "source": [
    "$H_0$: The period of time people stay on our website has not changed\n",
    "\n",
    "$H_a$: The period of time people stay on our website has gone up\n",
    "\n",
    "- TP: People stay on our website longer after the redesign\n",
    "- FP(T1): People stay on our website longer after the redesign, but it has only been one week and we do not have enough data\n",
    "- TN: The period of time people stay on our website has not changed\n",
    "- FN(T2): The period of time people stay on our website has not changed, but it's only been one week and we do not have enough data"
   ]
  },
  {
   "cell_type": "markdown",
   "metadata": {},
   "source": [
    "### 6. Is our TV ad driving more sales?"
   ]
  },
  {
   "cell_type": "markdown",
   "metadata": {},
   "source": [
    "$H_0$: Our sales have not changed after our TV ad\n",
    "\n",
    "$H_a$: Sales after our TV ad have gone up\n",
    "\n",
    "- TP: Our sales have gone up after our TV ad\n",
    "- FP(T1): Our sales have gone up after our TV ad, but we sell tiolet paper during coronavirus\n",
    "- TN: Our sales have not changed after our TV ad\n",
    "- FN(T2): Our sales have not changed after our TV ad, but the ad was only aired during the day when many people might be working"
   ]
  },
  {
   "cell_type": "markdown",
   "metadata": {},
   "source": [
    "### T-test\n",
    "Ace Realty wants to determine whether the average time it takes to sell homes is different for its two offices. \n",
    "- A sample of 40 sales from office #1 revealed a mean of 90 days and a standard deviation of 15 days. \n",
    "- A sample of 50 sales from office #2 revealed a mean of 100 days and a standard deviation of 20 days. \n",
    "\n",
    "Use a .05 level of significance."
   ]
  },
  {
   "cell_type": "code",
   "execution_count": 3,
   "metadata": {},
   "outputs": [
    {
     "data": {
      "text/plain": [
       "-2.6252287036468456"
      ]
     },
     "execution_count": 3,
     "metadata": {},
     "output_type": "execute_result"
    }
   ],
   "source": [
    "xbar1 = 90\n",
    "xbar2 = 100\n",
    "\n",
    "n1 = 40\n",
    "n2 = 50\n",
    "\n",
    "s1 = 15\n",
    "s2 = 20\n",
    "\n",
    "degf = n1 + n2 - 2\n",
    "\n",
    "s_p = sqrt(((n1 - 1) * s1**2 + (n2 - 1) * s2**2) / (n1 + n2 - 2))\n",
    "s_p\n",
    "\n",
    "standard_error = se = sqrt(s1**2 / n1 + s2**2 / n2)\n",
    "\n",
    "t = (xbar1 - xbar2) / (s_p * sqrt(1/n1 + 1/n2))\n",
    "t"
   ]
  },
  {
   "cell_type": "code",
   "execution_count": 8,
   "metadata": {},
   "outputs": [
    {
     "data": {
      "text/plain": [
       "0.01020985244923939"
      ]
     },
     "execution_count": 8,
     "metadata": {},
     "output_type": "execute_result"
    }
   ],
   "source": [
    "p = stats.t(degf).sf(abs(t)) * 2\n",
    "p"
   ]
  },
  {
   "cell_type": "code",
   "execution_count": 17,
   "metadata": {},
   "outputs": [
    {
     "name": "stdout",
     "output_type": "stream",
     "text": [
      "Since p 0.01 is less than targeted siginificance of .05, we can reject our null hypothesis that the average time it takes to sell homes is the same for both offices\n"
     ]
    }
   ],
   "source": [
    "print(f'Since p {p:.2f} is less than targeted siginificance of ' +\n",
    "      '.05, we can reject our null hypothesis that the average ' +\n",
    "      'time it takes to sell homes is the same for both offices')"
   ]
  },
  {
   "cell_type": "code",
   "execution_count": 88,
   "metadata": {},
   "outputs": [
    {
     "data": {
      "text/html": [
       "<div>\n",
       "<style scoped>\n",
       "    .dataframe tbody tr th:only-of-type {\n",
       "        vertical-align: middle;\n",
       "    }\n",
       "\n",
       "    .dataframe tbody tr th {\n",
       "        vertical-align: top;\n",
       "    }\n",
       "\n",
       "    .dataframe thead th {\n",
       "        text-align: right;\n",
       "    }\n",
       "</style>\n",
       "<table border=\"1\" class=\"dataframe\">\n",
       "  <thead>\n",
       "    <tr style=\"text-align: right;\">\n",
       "      <th></th>\n",
       "      <th>manufacturer</th>\n",
       "      <th>model</th>\n",
       "      <th>displ</th>\n",
       "      <th>year</th>\n",
       "      <th>cyl</th>\n",
       "      <th>trans</th>\n",
       "      <th>drv</th>\n",
       "      <th>cty</th>\n",
       "      <th>hwy</th>\n",
       "      <th>fl</th>\n",
       "      <th>class</th>\n",
       "      <th>ave_mpg</th>\n",
       "    </tr>\n",
       "  </thead>\n",
       "  <tbody>\n",
       "    <tr>\n",
       "      <td>1</td>\n",
       "      <td>audi</td>\n",
       "      <td>a4</td>\n",
       "      <td>1.8</td>\n",
       "      <td>1999</td>\n",
       "      <td>4</td>\n",
       "      <td>auto</td>\n",
       "      <td>f</td>\n",
       "      <td>18</td>\n",
       "      <td>29</td>\n",
       "      <td>p</td>\n",
       "      <td>compact</td>\n",
       "      <td>23.5</td>\n",
       "    </tr>\n",
       "    <tr>\n",
       "      <td>2</td>\n",
       "      <td>audi</td>\n",
       "      <td>a4</td>\n",
       "      <td>1.8</td>\n",
       "      <td>1999</td>\n",
       "      <td>4</td>\n",
       "      <td>manual</td>\n",
       "      <td>f</td>\n",
       "      <td>21</td>\n",
       "      <td>29</td>\n",
       "      <td>p</td>\n",
       "      <td>compact</td>\n",
       "      <td>25.0</td>\n",
       "    </tr>\n",
       "    <tr>\n",
       "      <td>3</td>\n",
       "      <td>audi</td>\n",
       "      <td>a4</td>\n",
       "      <td>2.0</td>\n",
       "      <td>2008</td>\n",
       "      <td>4</td>\n",
       "      <td>manual</td>\n",
       "      <td>f</td>\n",
       "      <td>20</td>\n",
       "      <td>31</td>\n",
       "      <td>p</td>\n",
       "      <td>compact</td>\n",
       "      <td>25.5</td>\n",
       "    </tr>\n",
       "    <tr>\n",
       "      <td>4</td>\n",
       "      <td>audi</td>\n",
       "      <td>a4</td>\n",
       "      <td>2.0</td>\n",
       "      <td>2008</td>\n",
       "      <td>4</td>\n",
       "      <td>auto</td>\n",
       "      <td>f</td>\n",
       "      <td>21</td>\n",
       "      <td>30</td>\n",
       "      <td>p</td>\n",
       "      <td>compact</td>\n",
       "      <td>25.5</td>\n",
       "    </tr>\n",
       "    <tr>\n",
       "      <td>5</td>\n",
       "      <td>audi</td>\n",
       "      <td>a4</td>\n",
       "      <td>2.8</td>\n",
       "      <td>1999</td>\n",
       "      <td>6</td>\n",
       "      <td>auto</td>\n",
       "      <td>f</td>\n",
       "      <td>16</td>\n",
       "      <td>26</td>\n",
       "      <td>p</td>\n",
       "      <td>compact</td>\n",
       "      <td>21.0</td>\n",
       "    </tr>\n",
       "    <tr>\n",
       "      <td>...</td>\n",
       "      <td>...</td>\n",
       "      <td>...</td>\n",
       "      <td>...</td>\n",
       "      <td>...</td>\n",
       "      <td>...</td>\n",
       "      <td>...</td>\n",
       "      <td>...</td>\n",
       "      <td>...</td>\n",
       "      <td>...</td>\n",
       "      <td>...</td>\n",
       "      <td>...</td>\n",
       "      <td>...</td>\n",
       "    </tr>\n",
       "    <tr>\n",
       "      <td>230</td>\n",
       "      <td>volkswagen</td>\n",
       "      <td>passat</td>\n",
       "      <td>2.0</td>\n",
       "      <td>2008</td>\n",
       "      <td>4</td>\n",
       "      <td>auto</td>\n",
       "      <td>f</td>\n",
       "      <td>19</td>\n",
       "      <td>28</td>\n",
       "      <td>p</td>\n",
       "      <td>midsize</td>\n",
       "      <td>23.5</td>\n",
       "    </tr>\n",
       "    <tr>\n",
       "      <td>231</td>\n",
       "      <td>volkswagen</td>\n",
       "      <td>passat</td>\n",
       "      <td>2.0</td>\n",
       "      <td>2008</td>\n",
       "      <td>4</td>\n",
       "      <td>manual</td>\n",
       "      <td>f</td>\n",
       "      <td>21</td>\n",
       "      <td>29</td>\n",
       "      <td>p</td>\n",
       "      <td>midsize</td>\n",
       "      <td>25.0</td>\n",
       "    </tr>\n",
       "    <tr>\n",
       "      <td>232</td>\n",
       "      <td>volkswagen</td>\n",
       "      <td>passat</td>\n",
       "      <td>2.8</td>\n",
       "      <td>1999</td>\n",
       "      <td>6</td>\n",
       "      <td>auto</td>\n",
       "      <td>f</td>\n",
       "      <td>16</td>\n",
       "      <td>26</td>\n",
       "      <td>p</td>\n",
       "      <td>midsize</td>\n",
       "      <td>21.0</td>\n",
       "    </tr>\n",
       "    <tr>\n",
       "      <td>233</td>\n",
       "      <td>volkswagen</td>\n",
       "      <td>passat</td>\n",
       "      <td>2.8</td>\n",
       "      <td>1999</td>\n",
       "      <td>6</td>\n",
       "      <td>manual</td>\n",
       "      <td>f</td>\n",
       "      <td>18</td>\n",
       "      <td>26</td>\n",
       "      <td>p</td>\n",
       "      <td>midsize</td>\n",
       "      <td>22.0</td>\n",
       "    </tr>\n",
       "    <tr>\n",
       "      <td>234</td>\n",
       "      <td>volkswagen</td>\n",
       "      <td>passat</td>\n",
       "      <td>3.6</td>\n",
       "      <td>2008</td>\n",
       "      <td>6</td>\n",
       "      <td>auto</td>\n",
       "      <td>f</td>\n",
       "      <td>17</td>\n",
       "      <td>26</td>\n",
       "      <td>p</td>\n",
       "      <td>midsize</td>\n",
       "      <td>21.5</td>\n",
       "    </tr>\n",
       "  </tbody>\n",
       "</table>\n",
       "<p>234 rows × 12 columns</p>\n",
       "</div>"
      ],
      "text/plain": [
       "    manufacturer   model  displ  year  cyl   trans drv  cty  hwy fl    class  \\\n",
       "1           audi      a4    1.8  1999    4    auto   f   18   29  p  compact   \n",
       "2           audi      a4    1.8  1999    4  manual   f   21   29  p  compact   \n",
       "3           audi      a4    2.0  2008    4  manual   f   20   31  p  compact   \n",
       "4           audi      a4    2.0  2008    4    auto   f   21   30  p  compact   \n",
       "5           audi      a4    2.8  1999    6    auto   f   16   26  p  compact   \n",
       "..           ...     ...    ...   ...  ...     ...  ..  ...  ... ..      ...   \n",
       "230   volkswagen  passat    2.0  2008    4    auto   f   19   28  p  midsize   \n",
       "231   volkswagen  passat    2.0  2008    4  manual   f   21   29  p  midsize   \n",
       "232   volkswagen  passat    2.8  1999    6    auto   f   16   26  p  midsize   \n",
       "233   volkswagen  passat    2.8  1999    6  manual   f   18   26  p  midsize   \n",
       "234   volkswagen  passat    3.6  2008    6    auto   f   17   26  p  midsize   \n",
       "\n",
       "     ave_mpg  \n",
       "1       23.5  \n",
       "2       25.0  \n",
       "3       25.5  \n",
       "4       25.5  \n",
       "5       21.0  \n",
       "..       ...  \n",
       "230     23.5  \n",
       "231     25.0  \n",
       "232     21.0  \n",
       "233     22.0  \n",
       "234     21.5  \n",
       "\n",
       "[234 rows x 12 columns]"
      ]
     },
     "execution_count": 88,
     "metadata": {},
     "output_type": "execute_result"
    }
   ],
   "source": [
    "mpg = data('mpg')\n",
    "mpg['ave_mpg'] = (mpg.cty + mpg.hwy) / 2\n",
    "mpg['trans'] = mpg.trans.str.split('(').map(lambda x: x[0])\n",
    "mpg"
   ]
  },
  {
   "cell_type": "code",
   "execution_count": 30,
   "metadata": {},
   "outputs": [
    {
     "name": "stdout",
     "output_type": "stream",
     "text": [
      "t_stat = 0.2196 \n",
      "p = 0.8264\n",
      "Since our p value of 0.8264 is greater than .05, we must fail to reject our null hypothesis that there is no difference in fuel_efficiency between cars made in 1999 vs cars made in 2008\n"
     ]
    }
   ],
   "source": [
    "x1 = mpg[mpg.year == 1999].ave_mpg\n",
    "x2 = mpg[mpg.year == 2008].ave_mpg\n",
    "t_stat, p = stats.ttest_ind(x1, x2)\n",
    "print(f't_stat = {t_stat:.4f} \\np = {p:.4f}')\n",
    "print(f'Since our p value of {p:.4f} is greater than .05, ' +\n",
    "     'we must fail to reject our null hypothesis that there is ' +\n",
    "     'no difference in fuel_efficiency between cars made in ' +\n",
    "     '1999 vs cars made in 2008')"
   ]
  },
  {
   "cell_type": "code",
   "execution_count": 43,
   "metadata": {},
   "outputs": [
    {
     "name": "stdout",
     "output_type": "stream",
     "text": [
      "t_stat = 7.8969 \n",
      "p = 0.00000000042\n",
      "Since our p value of 0.00000000042 is less than .05, we must reject our null hypothesis that there is no difference in fuel_efficiency between compact cars and average cars\n"
     ]
    }
   ],
   "source": [
    "x = mpg[mpg['class'] == 'compact'].ave_mpg\n",
    "mu = mpg.ave_mpg.mean()\n",
    "t_stat, p = stats.ttest_1samp(x, mu)\n",
    "\n",
    "print(f't_stat = {t_stat:.4f} \\np = {p:.11f}')\n",
    "print(f'Since our p value of {p:.11f} is less than .05, ' +\n",
    "     'we must reject our null hypothesis that there is ' +\n",
    "     'no difference in fuel_efficiency between compact cars ' +\n",
    "     'and average cars')"
   ]
  },
  {
   "cell_type": "code",
   "execution_count": 91,
   "metadata": {},
   "outputs": [
    {
     "name": "stdout",
     "output_type": "stream",
     "text": [
      "t_stat = 4.5934 \n",
      "p = 0.0000072\n",
      "Since our p value of 0.0000072 is less than .05, we must reject our null hypothesis that there is no difference in fuel_efficiency between manual cars and automatic cars\n"
     ]
    }
   ],
   "source": [
    "x1 = mpg[mpg.trans.isin(['manual'])].ave_mpg\n",
    "x2 = mpg[mpg.trans.isin(['auto'])].ave_mpg\n",
    "t_stat, p = stats.ttest_ind(x1, x2)\n",
    "print(f't_stat = {t_stat:.4f} \\np = {p:.7f}')\n",
    "print(f'Since our p value of {p:.7f} is less than .05, ' +\n",
    "     'we must reject our null hypothesis that there is ' +\n",
    "     'no difference in fuel_efficiency between manual cars ' +\n",
    "     'and automatic cars')"
   ]
  },
  {
   "cell_type": "code",
   "execution_count": null,
   "metadata": {},
   "outputs": [],
   "source": []
  }
 ],
 "metadata": {
  "kernelspec": {
   "display_name": "Python 3",
   "language": "python",
   "name": "python3"
  },
  "language_info": {
   "codemirror_mode": {
    "name": "ipython",
    "version": 3
   },
   "file_extension": ".py",
   "mimetype": "text/x-python",
   "name": "python",
   "nbconvert_exporter": "python",
   "pygments_lexer": "ipython3",
   "version": "3.7.4"
  }
 },
 "nbformat": 4,
 "nbformat_minor": 2
}
