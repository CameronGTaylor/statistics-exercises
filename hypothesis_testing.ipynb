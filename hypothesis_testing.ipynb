{
 "cells": [
  {
   "cell_type": "markdown",
   "metadata": {},
   "source": [
    "### 1. Are the average grades in web development vs data science classes different?"
   ]
  },
  {
   "cell_type": "markdown",
   "metadata": {},
   "source": [
    "$H_0$: The average grades in both cohorts are not different\n",
    "\n",
    "$H_a$: The average grades in both cohorts are different\n",
    "\n",
    "- TP: DS grades on average are lower because the course is harder\n",
    "- FP(T1): Comparing DS month 4 to WD month 1, undercoverage sampling error\n",
    "- TN: The average grades across both cohorts are the same\n",
    "- FN(T2): The average grades are the same, if data was volunteered then only people with good grades answered"
   ]
  },
  {
   "cell_type": "markdown",
   "metadata": {},
   "source": [
    "### 2. Is there a relationship between how early a student shows up to class and their grade?\n"
   ]
  },
  {
   "cell_type": "markdown",
   "metadata": {},
   "source": [
    "$H_0$: There is no relationship between how early a student shows up to class and their grade\n",
    "\n",
    "$H_a$: The grade of a student lowers based on how early they show up\n",
    "\n",
    "- TP: Students with lower grades show up earlier\n",
    "- FP: Students with lower grades show up earlier, but there is one student with a huge outlier grade affecting that change\n",
    "- TN: Grades do not change based on how early a student shows up\n",
    "- FN: Grades do not change, but random sampling happened to miss several students who show up early with poor grades"
   ]
  },
  {
   "cell_type": "markdown",
   "metadata": {},
   "source": [
    "### 3. Are web dev or data science students more likely to be coffee drinkers?"
   ]
  },
  {
   "cell_type": "markdown",
   "metadata": {},
   "source": [
    "$H_0$: There is no relationship between cohort and likelihood of drinking coffee\n",
    "\n",
    "$H_a$: DS students are more likely to drink coffee\n",
    "\n",
    "- TP: DS students are more likely to drink coffee\n",
    "- FP(T1): DS students are more likely to drink coffee, but the answers are skewed because the question was asked the day of a test in DS \n",
    "- TN: Cohort does not affect likelihood of drinking coffee\n",
    "- FN(T2): Cohort does not affect likelihood of drinking coffee, but 3/4 of the surveys were not answered"
   ]
  },
  {
   "cell_type": "markdown",
   "metadata": {},
   "source": [
    "### 4. Has the network latency gone up since we switched internet service providers?"
   ]
  },
  {
   "cell_type": "markdown",
   "metadata": {},
   "source": [
    "$H_0$: Network latency has not changed since switching service providers\n",
    "\n",
    "$H_a$: Network latency has gone up since switching service providers\n",
    "\n",
    "- TP: Network latency has gone up with the new provider\n",
    "- FP(T1): Network latency has gone up, but it is because more people are using the service\n",
    "- TN: Network latency has not changed with the new provider\n",
    "- FN(T2): Network latency has not changed, but we also switched to fiber"
   ]
  },
  {
   "cell_type": "markdown",
   "metadata": {},
   "source": [
    "### 5. Is the website redesign any good?"
   ]
  },
  {
   "cell_type": "markdown",
   "metadata": {},
   "source": [
    "$H_0$: The period of time people stay on our website has not changed\n",
    "\n",
    "$H_a$: The period of time people stay on our website has gone up\n",
    "\n",
    "- TP: People stay on our website longer after the redesign\n",
    "- FP(T1): People stay on our website longer after the redesign, but it has only been one week and we do not have enough data\n",
    "- TN: The period of time people stay on our website has not changed\n",
    "- FN(T2): The period of time people stay on our website has not changed, but it's only been one week and we do not have enough data"
   ]
  },
  {
   "cell_type": "markdown",
   "metadata": {},
   "source": [
    "### 6. Is our TV ad driving more sales?"
   ]
  },
  {
   "cell_type": "markdown",
   "metadata": {},
   "source": [
    "$H_0$: Our sales have not changed after our TV ad\n",
    "\n",
    "$H_a$: Sales after our TV ad have gone up\n",
    "\n",
    "- TP: Our sales have gone up after our TV ad\n",
    "- FP(T1): Our sales have gone up after our TV ad, but we sell tiolet paper during coronavirus\n",
    "- TN: Our sales have not changed after our TV ad\n",
    "- FN(T2): Our sales have not changed after our TV ad, but the ad was only aired during the day when many people might be working"
   ]
  }
 ],
 "metadata": {
  "kernelspec": {
   "display_name": "Python 3",
   "language": "python",
   "name": "python3"
  },
  "language_info": {
   "codemirror_mode": {
    "name": "ipython",
    "version": 3
   },
   "file_extension": ".py",
   "mimetype": "text/x-python",
   "name": "python",
   "nbconvert_exporter": "python",
   "pygments_lexer": "ipython3",
   "version": "3.7.4"
  }
 },
 "nbformat": 4,
 "nbformat_minor": 2
}
